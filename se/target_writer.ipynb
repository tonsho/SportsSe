{
 "cells": [
  {
   "cell_type": "code",
   "execution_count": null,
   "metadata": {
    "collapsed": true
   },
   "outputs": [],
   "source": [
    "from dateutil import parser\n",
    "from datetime import date, timedelta"
   ]
  },
  {
   "cell_type": "code",
   "execution_count": null,
   "metadata": {
    "collapsed": true
   },
   "outputs": [],
   "source": [
    "today = date.today()\n",
    "days_to_next_sat = 5 - today.weekday() + 7"
   ]
  },
  {
   "cell_type": "code",
   "execution_count": null,
   "metadata": {
    "collapsed": true
   },
   "outputs": [],
   "source": [
    "target_days = []\n",
    "target_sat = today + timedelta(days=days_to_next_sat)\n",
    "target_sun = target_sat + timedelta(days=1)\n",
    "\n",
    "while target_sat.year == today.year:\n",
    "    target_days.append(target_sat.isoformat())\n",
    "    target_days.append(target_sun.isoformat())\n",
    "    target_sat += timedelta(days=7)\n",
    "    target_sun += timedelta(days=7)\n",
    "\n",
    "target_days"
   ]
  },
  {
   "cell_type": "code",
   "execution_count": null,
   "metadata": {
    "collapsed": true
   },
   "outputs": [],
   "source": [
    "import requests\n",
    "holidays = requests.get('https://holidays-jp.github.io/api/v1/{}/date.json'.format(today.year)).json()"
   ]
  },
  {
   "cell_type": "code",
   "execution_count": null,
   "metadata": {
    "collapsed": true
   },
   "outputs": [],
   "source": [
    "holidays = [h for h in holidays.keys() if today < parser.parse(h).date()]\n",
    "holidays"
   ]
  },
  {
   "cell_type": "code",
   "execution_count": null,
   "metadata": {
    "collapsed": true
   },
   "outputs": [],
   "source": [
    "target_days.extend(holidays)\n",
    "target_days = list(set(target_days))"
   ]
  },
  {
   "cell_type": "code",
   "execution_count": null,
   "metadata": {
    "collapsed": true
   },
   "outputs": [],
   "source": [
    "reserve_target = {\n",
    "    \"target\": [{\n",
    "        \"facility\": \"法典公園（グラスポ）\",\n",
    "        \"date\": d.replace('-', '/'),\n",
    "        \"time\": [\"1230\", \"1430\"]\n",
    "    } for d in target_days],\n",
    "    \"preferred\": [{\n",
    "        \"facility\": \"法典公園（グラスポ）\",\n",
    "        \"place\": [\n",
    "            \"庭球場１面\",\n",
    "            \"庭球場３面\",\n",
    "            \"庭球場５面\",\n",
    "            \"庭球場７面\",\n",
    "            \"庭球場１１面\",\n",
    "            \"庭球場１０面\",\n",
    "            \"庭球場１３面\",\n",
    "            \"庭球場２面\",\n",
    "            \"庭球場４面\",\n",
    "            \"庭球場６面\",\n",
    "        ]\n",
    "    }]}"
   ]
  },
  {
   "cell_type": "code",
   "execution_count": null,
   "metadata": {
    "collapsed": true
   },
   "outputs": [],
   "source": [
    "import json\n",
    "with open('reserve_target_{}.json'.format(today.strftime('%Y%m%d')), mode='w', encoding='utf-8') as f:\n",
    "    f.write(json.dumps(reserve_target, ensure_ascii=False, indent=2))"
   ]
  },
  {
   "cell_type": "code",
   "execution_count": null,
   "metadata": {
    "collapsed": true
   },
   "outputs": [],
   "source": []
  },
  {
   "cell_type": "code",
   "execution_count": null,
   "metadata": {
    "collapsed": true
   },
   "outputs": [],
   "source": []
  }
 ],
 "metadata": {
  "kernelspec": {
   "display_name": "Python 3",
   "language": "python",
   "name": "python3"
  },
  "language_info": {
   "codemirror_mode": {
    "name": "ipython",
    "version": 3
   },
   "file_extension": ".py",
   "mimetype": "text/x-python",
   "name": "python",
   "nbconvert_exporter": "python",
   "pygments_lexer": "ipython3",
   "version": "3.6.3"
  }
 },
 "nbformat": 4,
 "nbformat_minor": 2
}
